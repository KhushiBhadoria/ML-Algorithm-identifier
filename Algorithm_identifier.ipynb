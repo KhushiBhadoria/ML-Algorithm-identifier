{
  "nbformat": 4,
  "nbformat_minor": 0,
  "metadata": {
    "colab": {
      "name": "Algorithm_identifier.ipynb",
      "provenance": [],
      "collapsed_sections": [],
      "authorship_tag": "ABX9TyOKg02jFnSzElow2v8qUCPf",
      "include_colab_link": true
    },
    "kernelspec": {
      "display_name": "Python 3",
      "name": "python3"
    },
    "language_info": {
      "name": "python"
    }
  },
  "cells": [
    {
      "cell_type": "markdown",
      "metadata": {
        "id": "view-in-github",
        "colab_type": "text"
      },
      "source": [
        "<a href=\"https://colab.research.google.com/github/KhushiBhadoria/ML-Algorithm-identifier-for-regression-based-dataset/blob/main/Algorithm_identifier.ipynb\" target=\"_parent\"><img src=\"https://colab.research.google.com/assets/colab-badge.svg\" alt=\"Open In Colab\"/></a>"
      ]
    },
    {
      "cell_type": "code",
      "metadata": {
        "id": "bbkMC6vVToRv"
      },
      "source": [
        "import pandas as pd\n",
        "import numpy as np\n",
        "from sklearn.model_selection import train_test_split  \n",
        "import matplotlib.pyplot as plt\n"
      ],
      "execution_count": 156,
      "outputs": []
    },
    {
      "cell_type": "code",
      "source": [
        "file_name=input('Enter your file name : ')\n",
        "df=pd.read_csv(file_name)"
      ],
      "metadata": {
        "colab": {
          "base_uri": "https://localhost:8080/"
        },
        "id": "pyQ9lkDLKWqF",
        "outputId": "4835b773-d0f1-467d-829c-dfe61a102e34"
      },
      "execution_count": 157,
      "outputs": [
        {
          "name": "stdout",
          "output_type": "stream",
          "text": [
            "Enter your file name : Iris_dataset.csv\n"
          ]
        }
      ]
    },
    {
      "cell_type": "code",
      "source": [
        "# replacing date column to Sno\n",
        "if df.columns.any() == 'Date' and df.columns.any() !='Sno':\n",
        "  df.insert(0, 'Sno', np.arange(len(df)))\n",
        "  dates = df['Date']\n",
        "  del df['Date']"
      ],
      "metadata": {
        "id": "1lpn5DiMPHbc"
      },
      "execution_count": 158,
      "outputs": []
    },
    {
      "cell_type": "code",
      "metadata": {
        "id": "YoPjzGyMp4Pc",
        "colab": {
          "base_uri": "https://localhost:8080/"
        },
        "outputId": "c13eeac0-7b4d-4e68-8c8a-9f88350e40c3"
      },
      "source": [
        "  #replacing junk values by nan \n",
        "junk_values=('*','?','#','+','-')\n",
        "for i in range(0,len(df.columns)):\n",
        "   for j in range(0,len(df.index)):\n",
        "     if type(df.iloc[j,i])==str:\n",
        "        s=df.iloc[j,i].startswith(junk_values)\n",
        "        if  s==True:\n",
        "           df=df.replace(df.iloc[j,i],np.nan)\n",
        "print(df.head(10))\n",
        "print(df.columns)\n",
        "       "
      ],
      "execution_count": 159,
      "outputs": [
        {
          "output_type": "stream",
          "name": "stdout",
          "text": [
            "   Id SepalLengthCm SepalWidthCm PetalLengthCm PetalWidthCm      Species\n",
            "0   1           NaN          NaN           NaN          0.2  Iris-setosa\n",
            "1   2           4.9            3           1.4          NaN  Iris-setosa\n",
            "2   3           4.7          NaN           1.3          0.2  Iris-setosa\n",
            "3   4           4.6          3.1           1.5          0.2  Iris-setosa\n",
            "4   5             5          3.6           1.4          0.2  Iris-setosa\n",
            "5   6           5.4          3.9           1.7          0.4  Iris-setosa\n",
            "6   7           4.6          3.4           1.4          0.3  Iris-setosa\n",
            "7   8             5          3.4           1.5          0.2  Iris-setosa\n",
            "8   9           4.4          2.9           1.4          0.2  Iris-setosa\n",
            "9  10           4.9          3.1           1.5          0.1  Iris-setosa\n",
            "Index(['Id', 'SepalLengthCm', 'SepalWidthCm', 'PetalLengthCm', 'PetalWidthCm',\n",
            "       'Species'],\n",
            "      dtype='object')\n"
          ]
        }
      ]
    },
    {
      "cell_type": "code",
      "source": [
        "#select nan values columns\n",
        "nan_columns=df.columns[df.isnull().any()]\n",
        "print(nan_columns)"
      ],
      "metadata": {
        "colab": {
          "base_uri": "https://localhost:8080/"
        },
        "id": "qZCg8VHO5uc0",
        "outputId": "112fb504-32eb-4790-e459-588bd46a0374"
      },
      "execution_count": 160,
      "outputs": [
        {
          "output_type": "stream",
          "name": "stdout",
          "text": [
            "Index(['SepalLengthCm', 'SepalWidthCm', 'PetalLengthCm', 'PetalWidthCm'], dtype='object')\n"
          ]
        }
      ]
    },
    {
      "cell_type": "code",
      "source": [
        "#filling missing values in data\n",
        "from sklearn.impute import SimpleImputer\n",
        "op = int(input(\"Do you want to fill nan values with...\\n1. Mean\\n2. Median\\nEnter 1 or 2: \"))\n",
        "if op==1:\n",
        "  imputer=SimpleImputer(missing_values=np.nan,strategy='mean')\n",
        "  imputer=imputer.fit(df[nan_columns])\n",
        "  df[nan_columns]=imputer.transform(df[nan_columns])\n",
        "  print(\"Nan values are filled with Mean..\")\n",
        "elif op==2:\n",
        "  imputer=SimpleImputer(missing_values=np.nan,strategy='median')\n",
        "  imputer=imputer.fit(df[nan_columns])\n",
        "  df[nan_columns]=imputer.transform(df[nan_columns])\n",
        "  print(\"Nan values are filled with Median..\")\n",
        "print(df)\n",
        "  "
      ],
      "metadata": {
        "id": "0DTvRZRTBoe4",
        "colab": {
          "base_uri": "https://localhost:8080/"
        },
        "outputId": "b8c3a616-f84b-4806-c006-4926dc811666"
      },
      "execution_count": 161,
      "outputs": [
        {
          "output_type": "stream",
          "name": "stdout",
          "text": [
            "Do you want to fill nan values with...\n",
            "1. Mean\n",
            "2. Median\n",
            "Enter 1 or 2: 1\n",
            "Nan values are filled with Mean..\n",
            "      Id  SepalLengthCm  ...  PetalWidthCm         Species\n",
            "0      1       5.848322  ...      0.200000     Iris-setosa\n",
            "1      2       4.900000  ...      1.205369     Iris-setosa\n",
            "2      3       4.700000  ...      0.200000     Iris-setosa\n",
            "3      4       4.600000  ...      0.200000     Iris-setosa\n",
            "4      5       5.000000  ...      0.200000     Iris-setosa\n",
            "..   ...            ...  ...           ...             ...\n",
            "145  146       6.700000  ...      2.300000  Iris-virginica\n",
            "146  147       6.300000  ...      1.900000  Iris-virginica\n",
            "147  148       6.500000  ...      2.000000  Iris-virginica\n",
            "148  149       6.200000  ...      2.300000  Iris-virginica\n",
            "149  150       5.900000  ...      1.800000  Iris-virginica\n",
            "\n",
            "[150 rows x 6 columns]\n"
          ]
        }
      ]
    },
    {
      "cell_type": "code",
      "metadata": {
        "id": "w2oHPsE9XMSu"
      },
      "source": [
        "# checking classification datatype string in each column\n",
        "for i in range(len(df.columns)):\n",
        "  if df.iloc[:, i].dtype == np.object:\n",
        "    unique = np.unique(df.iloc[:, i])\n",
        "    df.replace(unique, np.arange(len(unique)), inplace=True)"
      ],
      "execution_count": 162,
      "outputs": []
    },
    {
      "cell_type": "markdown",
      "metadata": {
        "id": "q-mWEiGePfTq"
      },
      "source": [
        "KFold"
      ]
    },
    {
      "cell_type": "code",
      "metadata": {
        "id": "Zh7qmBDwlpSb"
      },
      "source": [
        "from  sklearn.model_selection import KFold\n",
        "def kfold(X,Y,model):\n",
        "  s=int(input(\"Enter no. of KFold:\\n\"))\n",
        "  Y=np.array(Y).astype(int)\n",
        "  Y=np.ravel(Y)\n",
        "\n",
        "  acc_score=[]\n",
        "  error_rmse=[]\n",
        "  kf=KFold(n_splits=s)\n",
        "  for train_index, test_index in kf.split(X):\n",
        "    X_train,X_test=X.loc[train_index],X.loc[test_index]\n",
        "    Y_train,Y_test=Y[train_index],Y[test_index]\n",
        "    model.fit(X_train,Y_train)\n",
        "    y_pred=model.predict(X_test)\n",
        "    acc=(r2_score(Y_test,y_pred))*100\n",
        "    acc_score.append(acc)\n",
        "  avg_acc_score=sum(acc_score)/s\n",
        "  error=np.sqrt(metrics.mean_squared_error(Y_test,y_pred))\n",
        "  error_rmse.append(error)\n",
        "\n",
        "  avg_rmse=sum(error_rmse)/s\n",
        "\n",
        "  print('Average RMSE using KFold :{}'.format(avg_rmse))\n",
        "  print('Average accuracy using KFold :{}'.format(avg_acc_score))\n",
        "  return avg_rmse,avg_acc_score\n",
        "\n",
        "\n",
        "def kfold_(X,Y,model):\n",
        "  Y=np.array(Y).astype(int)\n",
        "  Y=np.ravel(Y)\n",
        "  s=int(input(\"Enter no. of KFold: \\n\"))\n",
        "\n",
        "  acc_score=[]\n",
        "  error_rmse=[]\n",
        "  kf=KFold(n_splits=s)\n",
        "  for train_index, test_index in kf.split(X):\n",
        "    X_train,X_test=X[train_index],X[test_index]\n",
        "    Y_train,Y_test=Y[train_index],Y[test_index]\n",
        "    model.fit(X_train,Y_train)\n",
        "    y_pred=model.predict(X_train)\n",
        "    acc=(r2_score(Y_train,y_pred))*100\n",
        "    acc_score.append(acc)\n",
        "  avg_acc_score=sum(acc_score)/s\n",
        "  error=np.sqrt(metrics.mean_squared_error(Y_train,y_pred))\n",
        "  error_rmse.append(error)\n",
        "\n",
        "  avg_rmse=sum(error_rmse)/s\n",
        "\n",
        "  print('Average RMSE using KFold :{}'.format(avg_rmse))\n",
        "  print('Average accuracy using KFold :{}'.format(avg_acc_score))\n",
        "  return avg_rmse,avg_acc_score\n",
        "  \n",
        "\n",
        "\n"
      ],
      "execution_count": 163,
      "outputs": []
    },
    {
      "cell_type": "markdown",
      "metadata": {
        "id": "Qa2XWsLlMzDa"
      },
      "source": [
        "Train Test Split"
      ]
    },
    {
      "cell_type": "code",
      "metadata": {
        "id": "Vk1SVC0wmMgM"
      },
      "source": [
        "from sklearn.model_selection import train_test_split\n",
        "def train_test(X,Y,model):\n",
        "  #size=float(input(\"Enter size of test data: \\n\"))\n",
        "\n",
        "  Y=np.array(Y).astype(int)#cast pandas  object to integer\n",
        "  Y=np.ravel(Y)#change a 2 dimensional or multi-dimensional array into a flattened array\n",
        "  X_train,X_test,Y_train,Y_test=train_test_split(X,Y, test_size=0.3,random_state=10)\n",
        "  regressor=model\n",
        "  regressor.fit(X_train,Y_train)\n",
        "  Y_pred_test=regressor.predict(X_test)\n",
        "  Y_pred_train=regressor.predict(X_train)\n",
        "\n",
        "  return Y_pred_test,Y_test,Y_train,Y_pred_train\n",
        "  "
      ],
      "execution_count": 164,
      "outputs": []
    },
    {
      "cell_type": "markdown",
      "metadata": {
        "id": "ThpecZ7sMxS5"
      },
      "source": [
        "Accuracy Function"
      ]
    },
    {
      "cell_type": "code",
      "metadata": {
        "id": "tF7iWwaBmXmw"
      },
      "source": [
        "from sklearn.metrics import r2_score\n",
        "def accuracy_function(Y_test,Y_pred_test,Y_train,Y_pred_train):\n",
        "  r_testing=(r2_score(Y_test,Y_pred_test))*100\n",
        "  r_training=(r2_score(Y_train,Y_pred_train))*100\n",
        "  print(\"Accuracy of training:\",r_training)\n",
        "  print(\"Accuracy of testing:\",r_testing)\n",
        "  return r_training,r_testing"
      ],
      "execution_count": 165,
      "outputs": []
    },
    {
      "cell_type": "markdown",
      "metadata": {
        "id": "D5FFjTUBM9sh"
      },
      "source": [
        "Error Function"
      ]
    },
    {
      "cell_type": "code",
      "metadata": {
        "id": "mmKtvC0XtaJU"
      },
      "source": [
        "from sklearn import metrics\n",
        "def error_function(Y_test,Y_pred_test,Y_train,Y_pred_train):\n",
        "  rmse_training=np.sqrt(metrics.mean_squared_error(Y_train,Y_pred_train))\n",
        "  rmse_testing=np.sqrt(metrics.mean_squared_error(Y_test,Y_pred_test))\n",
        "  print('Root Mean Squared Error of training:',np.sqrt(metrics.mean_squared_error(Y_train,Y_pred_train)))\n",
        "  print('Root Mean Squared Error of testing:',np.sqrt(metrics.mean_squared_error(Y_test,Y_pred_test)))\n",
        "  return rmse_training,rmse_testing\n"
      ],
      "execution_count": 166,
      "outputs": []
    },
    {
      "cell_type": "code",
      "metadata": {
        "id": "xch3tcmJmlRJ",
        "colab": {
          "base_uri": "https://localhost:8080/"
        },
        "outputId": "2b83f004-5803-4bc0-8cb1-38060f23ac86"
      },
      "source": [
        "\n",
        "print(\"what you want to predict\"+str(list(df)))\n",
        "choice=str(input('Enter your choice:'))\n",
        "Y=df.loc[:,choice]\n",
        "df_X=df.drop(choice,axis=1)\n",
        "X=df_X[list(df_X)]\n",
        "\n"
      ],
      "execution_count": 167,
      "outputs": [
        {
          "name": "stdout",
          "output_type": "stream",
          "text": [
            "what you want to predict['Id', 'SepalLengthCm', 'SepalWidthCm', 'PetalLengthCm', 'PetalWidthCm', 'Species']\n",
            "Enter your choice:Id\n"
          ]
        }
      ]
    },
    {
      "cell_type": "code",
      "metadata": {
        "id": "Hp7YCKj5mto4"
      },
      "source": [
        "Algorithm=['SVR','Random Forest','Multiple Regression','KNN','LogisticRegression']\n",
        "Kfold_accuracy=[]\n",
        "Kfold_error=[]\n",
        "testing_accuracy=[]\n",
        "testing_error=[]\n",
        "training_accuracy=[]\n",
        "training_error=[]"
      ],
      "execution_count": 168,
      "outputs": []
    },
    {
      "cell_type": "markdown",
      "metadata": {
        "id": "YJnHhT9qNV83"
      },
      "source": [
        "Scaling Data"
      ]
    },
    {
      "cell_type": "code",
      "metadata": {
        "id": "cQqzu9v9myFL"
      },
      "source": [
        "Y_r=np.array(Y).reshape(-1,1)\n",
        "from sklearn.preprocessing import StandardScaler\n",
        "sc_X=StandardScaler().fit_transform(X)\n",
        "sc_Y=StandardScaler().fit_transform(Y_r)"
      ],
      "execution_count": 169,
      "outputs": []
    },
    {
      "cell_type": "markdown",
      "metadata": {
        "id": "YIp7wsXyPDR2"
      },
      "source": [
        "SVR"
      ]
    },
    {
      "cell_type": "code",
      "metadata": {
        "id": "bU6_TBXqmzZF",
        "colab": {
          "base_uri": "https://localhost:8080/"
        },
        "outputId": "c0fe7e27-43e4-4fe0-9214-7151f706679c"
      },
      "source": [
        "from sklearn.svm import SVR\n",
        "model=SVR(kernel='rbf')\n",
        "rmse_svr_Kfold,accuracy_svr_Kfold=kfold_(sc_X,sc_Y,model)\n",
        "Y_pred_test,Y_test,Y_train,Y_pred_train=train_test(sc_X,sc_Y,model)\n",
        "r_training_svr,r_testing_svr=accuracy_function(Y_test,Y_pred_test,Y_train,Y_pred_train)\n",
        "rmse_training_svr,rmse_testing_svr=error_function(Y_test,Y_pred_test,Y_train,Y_pred_train)\n",
        "Kfold_accuracy.append(accuracy_svr_Kfold)\n",
        "Kfold_error.append(rmse_svr_Kfold)\n",
        "testing_accuracy.append(r_testing_svr)\n",
        "testing_error.append(rmse_testing_svr)\n",
        "training_accuracy.append(r_training_svr)\n",
        "training_error.append(rmse_training_svr)"
      ],
      "execution_count": 170,
      "outputs": [
        {
          "output_type": "stream",
          "name": "stdout",
          "text": [
            "Enter no. of KFold: \n",
            "5\n",
            "Average RMSE using KFold :0.07036539274948028\n",
            "Average accuracy using KFold :61.298178302214446\n",
            "Accuracy of training: 64.2694557338962\n",
            "Accuracy of testing: 41.614923346071066\n",
            "Root Mean Squared Error of training: 0.403992569613647\n",
            "Root Mean Squared Error of testing: 0.45435459521572474\n"
          ]
        }
      ]
    },
    {
      "cell_type": "markdown",
      "metadata": {
        "id": "xxAQVU8rPGZb"
      },
      "source": [
        "Random Forest"
      ]
    },
    {
      "cell_type": "code",
      "metadata": {
        "id": "K_MaByzfm4vi",
        "colab": {
          "base_uri": "https://localhost:8080/"
        },
        "outputId": "2cef9c2a-5a2c-4a26-c3d5-193d8894cae5"
      },
      "source": [
        "from sklearn.ensemble import RandomForestRegressor\n",
        "model=RandomForestRegressor(n_estimators=100,random_state=0)\n",
        "rmse_random_Kfold,accuracy_random_Kfold=kfold(X,Y,model)\n",
        "Y_pred_test,Y_test,Y_train,Y_pred_train=train_test(X,Y,model)\n",
        "r_training_random,r_testing_random=accuracy_function(Y_test,Y_pred_test,Y_train,Y_pred_train)\n",
        "rmse_training_random,rmse_testing_random=error_function(Y_test,Y_pred_test,Y_train,Y_pred_train)\n",
        "Kfold_accuracy.append(accuracy_random_Kfold)\n",
        "Kfold_error.append(rmse_random_Kfold)\n",
        "testing_accuracy.append(r_testing_random)\n",
        "testing_error.append(rmse_testing_random)\n",
        "training_accuracy.append(r_training_random)\n",
        "training_error.append(rmse_training_random)"
      ],
      "execution_count": 171,
      "outputs": [
        {
          "output_type": "stream",
          "name": "stdout",
          "text": [
            "Enter no. of KFold:\n",
            "5\n",
            "Average RMSE using KFold :5.340830322462354\n",
            "Average accuracy using KFold :-733.8179671679645\n",
            "Accuracy of training: 97.97380115050854\n",
            "Accuracy of testing: 75.51848144986324\n",
            "Root Mean Squared Error of training: 6.3304926134361645\n",
            "Root Mean Squared Error of testing: 20.00516073861387\n"
          ]
        }
      ]
    },
    {
      "cell_type": "markdown",
      "metadata": {
        "id": "H6tONss4PMP1"
      },
      "source": [
        "Multiple Linear Regression"
      ]
    },
    {
      "cell_type": "code",
      "metadata": {
        "id": "ughH90Wlm8vJ",
        "colab": {
          "base_uri": "https://localhost:8080/"
        },
        "outputId": "4924c18f-b301-4217-b26c-2ed9205b89e3"
      },
      "source": [
        "from sklearn.linear_model import LinearRegression\n",
        "model=LinearRegression()\n",
        "rmse_multiple_Kfold,accuracy_multiple_Kfold=kfold(X,Y,model)\n",
        "Y_pred_test,Y_test,Y_train,Y_pred_train=train_test(X,Y,model)\n",
        "r_training_multiple,r_testing_multiple=accuracy_function(Y_test,Y_pred_test,Y_train,Y_pred_train)\n",
        "rmse_training_multiple,rmse_testing_multiple=error_function(Y_test,Y_pred_test,Y_train,Y_pred_train)\n",
        "Kfold_accuracy.append(accuracy_multiple_Kfold)\n",
        "Kfold_error.append(rmse_multiple_Kfold)\n",
        "testing_accuracy.append(r_testing_multiple)\n",
        "testing_error.append(rmse_testing_multiple)\n",
        "training_accuracy.append(r_training_multiple)\n",
        "training_error.append(rmse_training_multiple)"
      ],
      "execution_count": 172,
      "outputs": [
        {
          "output_type": "stream",
          "name": "stdout",
          "text": [
            "Enter no. of KFold:\n",
            "5\n",
            "Average RMSE using KFold :4.861371281211445\n",
            "Average accuracy using KFold :-533.7663349768053\n",
            "Accuracy of training: 90.03360256569123\n",
            "Accuracy of testing: 86.11329306730092\n",
            "Root Mean Squared Error of training: 14.039950448566287\n",
            "Root Mean Squared Error of testing: 15.066851361321921\n"
          ]
        }
      ]
    },
    {
      "cell_type": "markdown",
      "metadata": {
        "id": "FzGIurpXPR_l"
      },
      "source": [
        "KNN"
      ]
    },
    {
      "cell_type": "code",
      "metadata": {
        "id": "2BF2sOMOnBWw",
        "colab": {
          "base_uri": "https://localhost:8080/"
        },
        "outputId": "3b17a18f-871c-4383-ac1b-b8df768a249c"
      },
      "source": [
        "from sklearn.neighbors import KNeighborsClassifier\n",
        "model=KNeighborsClassifier(n_neighbors=7)\n",
        "rmse_knn_Kfold,accuracy_knn_Kfold=kfold_(sc_X,sc_Y,model)\n",
        "Y_pred_test,Y_test,Y_train,Y_pred_train=train_test(sc_X,sc_Y,model)\n",
        "r_training_knn,r_testing_knn=accuracy_function(Y_test,Y_pred_test,Y_train,Y_pred_train)\n",
        "rmse_training_knn,rmse_testing_knn=error_function(Y_test,Y_pred_test,Y_train,Y_pred_train)\n",
        "Kfold_accuracy.append(accuracy_knn_Kfold)\n",
        "Kfold_error.append(rmse_knn_Kfold)\n",
        "testing_accuracy.append(r_testing_knn)\n",
        "testing_error.append(rmse_testing_knn)\n",
        "training_accuracy.append(r_training_knn)\n",
        "training_error.append(rmse_training_knn)"
      ],
      "execution_count": 173,
      "outputs": [
        {
          "output_type": "stream",
          "name": "stdout",
          "text": [
            "Enter no. of KFold: \n",
            "5\n",
            "Average RMSE using KFold :0.07958224257542215\n",
            "Average accuracy using KFold :48.33214182406853\n",
            "Accuracy of training: 52.04527402700556\n",
            "Accuracy of testing: 18.29608938547488\n",
            "Root Mean Squared Error of training: 0.4680252333449758\n",
            "Root Mean Squared Error of testing: 0.5374838498865699\n"
          ]
        }
      ]
    },
    {
      "cell_type": "markdown",
      "metadata": {
        "id": "nKsGVv9QPVNZ"
      },
      "source": [
        "Logistic Regression"
      ]
    },
    {
      "cell_type": "code",
      "metadata": {
        "id": "v1REyuZ4nGVK",
        "colab": {
          "base_uri": "https://localhost:8080/"
        },
        "outputId": "9189880e-698d-406e-9d16-24ce7a7fbdaf"
      },
      "source": [
        "from sklearn.linear_model import LogisticRegression\n",
        "model=LogisticRegression(solver='liblinear')\n",
        "rmse_logistic_Kfold,accuracy_logistic_Kfold=kfold_(sc_X,sc_Y,model)\n",
        "Y_pred_test,Y_test,Y_train,Y_pred_train=train_test(sc_X,sc_Y,model)\n",
        "r_training_logistic,r_testing_logistic=accuracy_function(Y_test,Y_pred_test,Y_train,Y_pred_train)\n",
        "rmse_training_logistic,rmse_testing_logistic=error_function(Y_test,Y_pred_test,Y_train,Y_pred_train)\n",
        "Kfold_accuracy.append(accuracy_logistic_Kfold)\n",
        "Kfold_error.append(rmse_logistic_Kfold)\n",
        "testing_accuracy.append(r_testing_logistic)\n",
        "testing_error.append(rmse_testing_logistic)\n",
        "training_accuracy.append(r_training_logistic)\n",
        "training_error.append(rmse_training_logistic)"
      ],
      "execution_count": 174,
      "outputs": [
        {
          "output_type": "stream",
          "name": "stdout",
          "text": [
            "Enter no. of KFold: \n",
            "5\n",
            "Average RMSE using KFold :0.08366600265340755\n",
            "Average accuracy using KFold :43.60542034163225\n",
            "Accuracy of training: 45.790309769658464\n",
            "Accuracy of testing: 5.726256983240241\n",
            "Root Mean Squared Error of training: 0.4976133515281193\n",
            "Root Mean Squared Error of testing: 0.5773502691896257\n"
          ]
        }
      ]
    },
    {
      "cell_type": "code",
      "metadata": {
        "id": "tXcbcVDAPlji",
        "colab": {
          "base_uri": "https://localhost:8080/"
        },
        "outputId": "d6815d51-c15f-4ab5-964a-d67e47b63d99"
      },
      "source": [
        "df_table=pd.DataFrame({'Algorithm':['SVR','Random Forest','Multiple Regression','KNN','LogisticRegression'],'KFold_Accuracy':Kfold_accuracy,'KFold Error':Kfold_error,'Training_Accuracy':training_accuracy,\n",
        "                        'Traning Error':training_error,'Testing_Accuracy':testing_accuracy,'Testing Error':testing_error})\n",
        "print(df_table)"
      ],
      "execution_count": 175,
      "outputs": [
        {
          "output_type": "stream",
          "name": "stdout",
          "text": [
            "             Algorithm  KFold_Accuracy  ...  Testing_Accuracy  Testing Error\n",
            "0                  SVR       61.298178  ...         41.614923       0.454355\n",
            "1        Random Forest     -733.817967  ...         75.518481      20.005161\n",
            "2  Multiple Regression     -533.766335  ...         86.113293      15.066851\n",
            "3                  KNN       48.332142  ...         18.296089       0.537484\n",
            "4   LogisticRegression       43.605420  ...          5.726257       0.577350\n",
            "\n",
            "[5 rows x 7 columns]\n"
          ]
        }
      ]
    },
    {
      "cell_type": "code",
      "metadata": {
        "id": "YUF1yrIyTuij",
        "colab": {
          "base_uri": "https://localhost:8080/",
          "height": 500
        },
        "outputId": "f49fc422-10ba-4431-8c2b-44c0e133354f"
      },
      "source": [
        "import matplotlib.pyplot as plt\n",
        "plt.figure(figsize=(18,8))\n",
        "plt.plot(Algorithm,Kfold_accuracy,color='m',linewidth=2,label='KFold Accuracy')\n",
        "plt.plot(Algorithm,Kfold_error,color='green',linewidth=2,label='KFold Error')\n",
        "plt.plot(Algorithm,training_accuracy,color='blue',linewidth=2,label='Training Accuracy')\n",
        "plt.plot(Algorithm,testing_accuracy,color='purple',linewidth=2,label='Testing Accuracy')\n",
        "plt.plot(Algorithm,training_error,color='red',linewidth=2,label='Training Error')\n",
        "plt.plot(Algorithm,testing_error,color='orange',linewidth=2,label='Testing Error')\n",
        "plt.legend()"
      ],
      "execution_count": 176,
      "outputs": [
        {
          "output_type": "execute_result",
          "data": {
            "text/plain": [
              "<matplotlib.legend.Legend at 0x7fb812716a10>"
            ]
          },
          "metadata": {},
          "execution_count": 176
        },
        {
          "output_type": "display_data",
          "data": {
            "image/png": "[encoded data removed]",
            "text/plain": [
              "<Figure size 1296x576 with 1 Axes>"
            ]
          },
          "metadata": {
            "needs_background": "light"
          }
        }
      ]
    },
    {
      "cell_type": "code",
      "metadata": {
        "id": "jkOOfq1AQsiD",
        "colab": {
          "base_uri": "https://localhost:8080/"
        },
        "outputId": "98fa33d8-48f6-4dae-cd93-624e3d7643fc"
      },
      "source": [
        "print(\"Sort your list by\"+str(list(df_table)))\n",
        "s=str(input('Enter your choice:'))#Enter string\n",
        "sorted_df=df_table.sort_values(s,ascending=False,axis=0)\n",
        "print(sorted_df)\n"
      ],
      "execution_count": 177,
      "outputs": [
        {
          "output_type": "stream",
          "name": "stdout",
          "text": [
            "Sort your list by['Algorithm', 'KFold_Accuracy', 'KFold Error', 'Training_Accuracy', 'Traning Error', 'Testing_Accuracy', 'Testing Error']\n",
            "Enter your choice:KFold_Accuracy\n",
            "             Algorithm  KFold_Accuracy  ...  Testing_Accuracy  Testing Error\n",
            "0                  SVR       61.298178  ...         41.614923       0.454355\n",
            "3                  KNN       48.332142  ...         18.296089       0.537484\n",
            "4   LogisticRegression       43.605420  ...          5.726257       0.577350\n",
            "2  Multiple Regression     -533.766335  ...         86.113293      15.066851\n",
            "1        Random Forest     -733.817967  ...         75.518481      20.005161\n",
            "\n",
            "[5 rows x 7 columns]\n"
          ]
        }
      ]
    },
    {
      "cell_type": "code",
      "metadata": {
        "id": "uulm0yDyU9hr",
        "colab": {
          "base_uri": "https://localhost:8080/"
        },
        "outputId": "943cc551-6066-4a0c-d271-5d556dbd17d9"
      },
      "source": [
        "best_algo=sorted_df.loc[0,'Algorithm']\n",
        "print('Best algorithm for your dataset is',best_algo)"
      ],
      "execution_count": 178,
      "outputs": [
        {
          "output_type": "stream",
          "name": "stdout",
          "text": [
            "Best algorithm for your dataset is SVR\n"
          ]
        }
      ]
    }
  ]
}